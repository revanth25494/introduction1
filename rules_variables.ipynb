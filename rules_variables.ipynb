{
 "cells": [
  {
   "cell_type": "code",
   "execution_count": 1,
   "id": "a1119161",
   "metadata": {},
   "outputs": [
    {
     "data": {
      "text/plain": [
       "2"
      ]
     },
     "execution_count": 1,
     "metadata": {},
     "output_type": "execute_result"
    }
   ],
   "source": [
    "x = 2\n",
    "X = 20\n",
    "x"
   ]
  },
  {
   "cell_type": "code",
   "execution_count": null,
   "id": "d9d9f347",
   "metadata": {},
   "outputs": [],
   "source": [
    "### varialble is case sensitive"
   ]
  },
  {
   "cell_type": "code",
   "execution_count": 2,
   "id": "851bcdb5",
   "metadata": {},
   "outputs": [
    {
     "ename": "NameError",
     "evalue": "name 'Reva' is not defined",
     "output_type": "error",
     "traceback": [
      "\u001b[1;31m---------------------------------------------------------------------------\u001b[0m",
      "\u001b[1;31mNameError\u001b[0m                                 Traceback (most recent call last)",
      "\u001b[1;32m~\\AppData\\Local\\Temp/ipykernel_13632/2799234303.py\u001b[0m in \u001b[0;36m<module>\u001b[1;34m\u001b[0m\n\u001b[1;32m----> 1\u001b[1;33m \u001b[0mname1\u001b[0m \u001b[1;33m=\u001b[0m \u001b[0mReva\u001b[0m\u001b[1;33m\u001b[0m\u001b[1;33m\u001b[0m\u001b[0m\n\u001b[0m\u001b[0;32m      2\u001b[0m \u001b[0mname1\u001b[0m\u001b[1;33m\u001b[0m\u001b[1;33m\u001b[0m\u001b[0m\n",
      "\u001b[1;31mNameError\u001b[0m: name 'Reva' is not defined"
     ]
    }
   ],
   "source": [
    "name1 = Reva\n",
    "name1"
   ]
  },
  {
   "cell_type": "code",
   "execution_count": 3,
   "id": "7b798894",
   "metadata": {},
   "outputs": [
    {
     "data": {
      "text/plain": [
       "'Reva'"
      ]
     },
     "execution_count": 3,
     "metadata": {},
     "output_type": "execute_result"
    }
   ],
   "source": [
    "name1 = \"Reva\"\n",
    "name1"
   ]
  },
  {
   "cell_type": "code",
   "execution_count": 4,
   "id": "690702b5",
   "metadata": {},
   "outputs": [
    {
     "ename": "SyntaxError",
     "evalue": "invalid syntax (Temp/ipykernel_13632/3123261504.py, line 1)",
     "output_type": "error",
     "traceback": [
      "\u001b[1;36m  File \u001b[1;32m\"C:\\Users\\DELL\\AppData\\Local\\Temp/ipykernel_13632/3123261504.py\"\u001b[1;36m, line \u001b[1;32m1\u001b[0m\n\u001b[1;33m    1name = \"Revanth\"\u001b[0m\n\u001b[1;37m     ^\u001b[0m\n\u001b[1;31mSyntaxError\u001b[0m\u001b[1;31m:\u001b[0m invalid syntax\n"
     ]
    }
   ],
   "source": [
    "1name = \"Revanth\"\n",
    "1name"
   ]
  },
  {
   "cell_type": "code",
   "execution_count": null,
   "id": "18573a52",
   "metadata": {},
   "outputs": [],
   "source": [
    "## numerical cannot be used as the first character of the variable  "
   ]
  },
  {
   "cell_type": "code",
   "execution_count": 5,
   "id": "abdad92a",
   "metadata": {},
   "outputs": [
    {
     "data": {
      "text/plain": [
       "(1, 2, 3)"
      ]
     },
     "execution_count": 5,
     "metadata": {},
     "output_type": "execute_result"
    }
   ],
   "source": [
    "list = 1,2,3\n",
    "list"
   ]
  },
  {
   "cell_type": "code",
   "execution_count": 6,
   "id": "1c515a2f",
   "metadata": {},
   "outputs": [
    {
     "data": {
      "text/plain": [
       "(1, 2, 3)"
      ]
     },
     "execution_count": 6,
     "metadata": {},
     "output_type": "execute_result"
    }
   ],
   "source": [
    "_list=1,2,3\n",
    "_list"
   ]
  },
  {
   "cell_type": "code",
   "execution_count": 7,
   "id": "a0951597",
   "metadata": {},
   "outputs": [
    {
     "ename": "SyntaxError",
     "evalue": "invalid syntax (Temp/ipykernel_13632/2639413578.py, line 1)",
     "output_type": "error",
     "traceback": [
      "\u001b[1;36m  File \u001b[1;32m\"C:\\Users\\DELL\\AppData\\Local\\Temp/ipykernel_13632/2639413578.py\"\u001b[1;36m, line \u001b[1;32m1\u001b[0m\n\u001b[1;33m    l ist=1,2,3\u001b[0m\n\u001b[1;37m      ^\u001b[0m\n\u001b[1;31mSyntaxError\u001b[0m\u001b[1;31m:\u001b[0m invalid syntax\n"
     ]
    }
   ],
   "source": [
    "l ist=1,2,3\n",
    "l ist"
   ]
  },
  {
   "cell_type": "code",
   "execution_count": 8,
   "id": "869b120a",
   "metadata": {},
   "outputs": [
    {
     "ename": "SyntaxError",
     "evalue": "cannot assign to operator (Temp/ipykernel_13632/994017257.py, line 1)",
     "output_type": "error",
     "traceback": [
      "\u001b[1;36m  File \u001b[1;32m\"C:\\Users\\DELL\\AppData\\Local\\Temp/ipykernel_13632/994017257.py\"\u001b[1;36m, line \u001b[1;32m1\u001b[0m\n\u001b[1;33m    +list=1,2,3\u001b[0m\n\u001b[1;37m    ^\u001b[0m\n\u001b[1;31mSyntaxError\u001b[0m\u001b[1;31m:\u001b[0m cannot assign to operator\n"
     ]
    }
   ],
   "source": [
    "+list=1,2,3\n",
    "+list"
   ]
  },
  {
   "cell_type": "code",
   "execution_count": null,
   "id": "ca54e92c",
   "metadata": {},
   "outputs": [],
   "source": [
    "## variable can start  with alphabet or underscore\n",
    "## any other speicial character except underscore can be used for defining variables\n",
    "## space in the variable definition is not allowed"
   ]
  },
  {
   "cell_type": "markdown",
   "id": "ecc94e57",
   "metadata": {},
   "source": [
    "# Rules for declaring variable"
   ]
  },
  {
   "cell_type": "markdown",
   "id": "8c9d58cc",
   "metadata": {},
   "source": [
    "### variable name must start with a letter or underscore character\n",
    "### variable name cannot start with a nunmber\n",
    "### variable name can onyl contain alpha-numeric characters and underscores (A-z,0-9,and _)\n",
    "### variable names are case sensitive(age,Age and AGE are three different variables)"
   ]
  },
  {
   "cell_type": "code",
   "execution_count": null,
   "id": "44dcc054",
   "metadata": {},
   "outputs": [],
   "source": []
  }
 ],
 "metadata": {
  "kernelspec": {
   "display_name": "Python 3 (ipykernel)",
   "language": "python",
   "name": "python3"
  },
  "language_info": {
   "codemirror_mode": {
    "name": "ipython",
    "version": 3
   },
   "file_extension": ".py",
   "mimetype": "text/x-python",
   "name": "python",
   "nbconvert_exporter": "python",
   "pygments_lexer": "ipython3",
   "version": "3.9.7"
  }
 },
 "nbformat": 4,
 "nbformat_minor": 5
}
